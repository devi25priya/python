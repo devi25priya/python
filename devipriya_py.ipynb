{
  "nbformat": 4,
  "nbformat_minor": 0,
  "metadata": {
    "colab": {
      "provenance": [],
      "authorship_tag": "ABX9TyMr+xtBKB4j25nR8M928pPm",
      "include_colab_link": true
    },
    "kernelspec": {
      "name": "python3",
      "display_name": "Python 3"
    },
    "language_info": {
      "name": "python"
    }
  },
  "cells": [
    {
      "cell_type": "markdown",
      "metadata": {
        "id": "view-in-github",
        "colab_type": "text"
      },
      "source": [
        "<a href=\"https://colab.research.google.com/github/devi25priya/python/blob/main/devipriya_py.ipynb\" target=\"_parent\"><img src=\"https://colab.research.google.com/assets/colab-badge.svg\" alt=\"Open In Colab\"/></a>"
      ]
    },
    {
      "cell_type": "code",
      "execution_count": null,
      "metadata": {
        "colab": {
          "base_uri": "https://localhost:8080/"
        },
        "id": "CDsdZPZVsHre",
        "outputId": "5917bf51-1bf7-432d-8465-39d7a42739d3"
      },
      "outputs": [
        {
          "output_type": "stream",
          "name": "stdout",
          "text": [
            "10\n",
            "2.5\n",
            "[3 4]\n",
            "2.5\n",
            "[4 5]\n"
          ]
        }
      ],
      "source": [
        "'''import numpy as np   #creating numpy as an array\n",
        "a=np.aaray([1,2,3,4])\n",
        "print(a)\n",
        "print(a.ndim)\n",
        "print(a.shape)\n",
        "print(a.dtype)\n",
        "\n",
        "a=np.array([\"abc\",2,True,4.1])\n",
        "print(a)\n",
        "print(a.ndim)   #ndim---number of dimensions\n",
        "print(a.shape)  #shape--rows*columns\n",
        "print(a.dtype)   #u32 shows mixed datatype,64 if only integers'''\n",
        "\n",
        "'''a=np.array([[\"abc\",2,True,4.1],[1,2,3,4]])\n",
        "print(a)\n",
        "print(a.ndim)\n",
        "print(a.shape)\n",
        "print(a.dtype)'''\n",
        "'''\n",
        "import numpy as np     #######this should be in the firts line for np#######\n",
        "'''\n",
        "'''a=np.array([[[1,2],[2,3]],[[3,4],[4,5]]])\n",
        "print(a)\n",
        "print(a.ndim)\n",
        "print(a.shape)\n",
        "print(a.dtype)'''\n",
        "\n",
        "'''a=np.zeros((3,7))    #array of zeros        [[0. 0. 0. 0. 0. 0. 0.]\n",
        "                                           #  [0. 0. 0. 0. 0. 0. 0.]\n",
        "                                            # [0. 0. 0. 0. 0. 0. 0.]]\n",
        "\n",
        "print(a)\n",
        "\n",
        "b=np.ones((1,4))     #array of ones\n",
        "print(b)                                  ## [[1. 1. 1. 1.]]\n",
        "\n",
        "c=np.eye(7)          #create identical matrix\n",
        "print(c)'''\n",
        "\n",
        "'''d=np.arange(0,91,9)  #arrange---(start,stop,step)\n",
        "print(d)             #[ 0  9 18 27 36 45 54 63 72 81 90]\n",
        "e=np.arange(7,77,7)  #starts from 7 but jump 77 ie upto 70\n",
        "print(e) '''            #[ 7 14 21 28 35 42 49 56 63 70]\n",
        "\n",
        "'''a=np.linspace(0,1,5)   #linspace(start,stop,count of split)\n",
        "print(a)               #[0.   0.25 0.5  0.75 1.  ]\n",
        "b=np.linspace(0,10,5)\n",
        "print(b)               #[ 0.   2.5  5.   7.5 10. ]\n",
        "'''\n",
        "\n",
        "import numpy as np     #######this should be in the firts line for np#######\n",
        "'''arr=np.array([[1,2,3],[4,5,6]])\n",
        "print(arr)\n",
        "print(arr[1,2])  #indexing 1 is[4,5,6] 2is 6in[4,5,6]\n",
        "print(arr[:1])   #slicing---[[1 2 3]]\n",
        "print(arr[1,:])  #[4 5 6]\n",
        "print(arr.shape)\n",
        "print(arr.reshape(3,2))\n",
        "print(arr.flatten())'''  #flattens to one dimension----[1 2 3 4 5 6]\n",
        "#--operations\n",
        "'''a=np.array([1,2,3])\n",
        "b=np.array([4,5,6])\n",
        "print(a+b)\n",
        "print(a*3)\n",
        "c=np.array([[1],[2],[4]])      #3*1\n",
        "d=np.array([6,7,8])          #1*3\n",
        "print(c+d)\n",
        "#[[ 7  8  9]\n",
        "# [ 8  9 10]-----------------BROADCASTING\n",
        "# [10 11 12]]\n",
        "e=np.array([1,2,4])\n",
        "f=np.array([[16],[17],[18]])\n",
        "print(e+f)'''\n",
        "\n",
        "#----->aggregate function<-------#\n",
        "arr=np.array([[1,2],[3,4]])\n",
        "print(arr.sum())                  #10\n",
        "print(arr.mean())                 #2.5\n",
        "print(arr.max(axis=0))            #[3 4]\n",
        "print(np.median(arr))             #2.5\n",
        "\n",
        "a=np.array([1,2,3,4,5])\n",
        "mask=a>3\n",
        "print(a[mask])                   #[4 5]"
      ]
    }
  ]
}